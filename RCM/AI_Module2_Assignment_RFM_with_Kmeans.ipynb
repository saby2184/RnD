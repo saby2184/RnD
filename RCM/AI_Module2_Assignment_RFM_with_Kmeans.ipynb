{
 "cells": [
  {
   "cell_type": "code",
   "execution_count": 17,
   "metadata": {},
   "outputs": [],
   "source": [
    "import numpy as np\n",
    "import pandas as pd\n",
    "import matplotlib.pyplot as plt\n",
    "import os\n",
    "from datetime import timedelta\n",
    "import seaborn as sns"
   ]
  },
  {
   "cell_type": "code",
   "execution_count": 2,
   "metadata": {},
   "outputs": [
    {
     "data": {
      "text/html": [
       "<div>\n",
       "<style scoped>\n",
       "    .dataframe tbody tr th:only-of-type {\n",
       "        vertical-align: middle;\n",
       "    }\n",
       "\n",
       "    .dataframe tbody tr th {\n",
       "        vertical-align: top;\n",
       "    }\n",
       "\n",
       "    .dataframe thead th {\n",
       "        text-align: right;\n",
       "    }\n",
       "</style>\n",
       "<table border=\"1\" class=\"dataframe\">\n",
       "  <thead>\n",
       "    <tr style=\"text-align: right;\">\n",
       "      <th></th>\n",
       "      <th>InvoiceNo</th>\n",
       "      <th>StockCode</th>\n",
       "      <th>Description</th>\n",
       "      <th>Quantity</th>\n",
       "      <th>InvoiceDate</th>\n",
       "      <th>UnitPrice</th>\n",
       "      <th>CustomerID</th>\n",
       "      <th>Country</th>\n",
       "    </tr>\n",
       "  </thead>\n",
       "  <tbody>\n",
       "    <tr>\n",
       "      <th>0</th>\n",
       "      <td>536365</td>\n",
       "      <td>85123A</td>\n",
       "      <td>WHITE HANGING HEART T-LIGHT HOLDER</td>\n",
       "      <td>6</td>\n",
       "      <td>2010-12-01 08:26:00</td>\n",
       "      <td>2.55</td>\n",
       "      <td>17850.0</td>\n",
       "      <td>United Kingdom</td>\n",
       "    </tr>\n",
       "    <tr>\n",
       "      <th>1</th>\n",
       "      <td>536365</td>\n",
       "      <td>71053</td>\n",
       "      <td>WHITE METAL LANTERN</td>\n",
       "      <td>6</td>\n",
       "      <td>2010-12-01 08:26:00</td>\n",
       "      <td>3.39</td>\n",
       "      <td>17850.0</td>\n",
       "      <td>United Kingdom</td>\n",
       "    </tr>\n",
       "    <tr>\n",
       "      <th>2</th>\n",
       "      <td>536365</td>\n",
       "      <td>84406B</td>\n",
       "      <td>CREAM CUPID HEARTS COAT HANGER</td>\n",
       "      <td>8</td>\n",
       "      <td>2010-12-01 08:26:00</td>\n",
       "      <td>2.75</td>\n",
       "      <td>17850.0</td>\n",
       "      <td>United Kingdom</td>\n",
       "    </tr>\n",
       "    <tr>\n",
       "      <th>3</th>\n",
       "      <td>536365</td>\n",
       "      <td>84029G</td>\n",
       "      <td>KNITTED UNION FLAG HOT WATER BOTTLE</td>\n",
       "      <td>6</td>\n",
       "      <td>2010-12-01 08:26:00</td>\n",
       "      <td>3.39</td>\n",
       "      <td>17850.0</td>\n",
       "      <td>United Kingdom</td>\n",
       "    </tr>\n",
       "    <tr>\n",
       "      <th>4</th>\n",
       "      <td>536365</td>\n",
       "      <td>84029E</td>\n",
       "      <td>RED WOOLLY HOTTIE WHITE HEART.</td>\n",
       "      <td>6</td>\n",
       "      <td>2010-12-01 08:26:00</td>\n",
       "      <td>3.39</td>\n",
       "      <td>17850.0</td>\n",
       "      <td>United Kingdom</td>\n",
       "    </tr>\n",
       "  </tbody>\n",
       "</table>\n",
       "</div>"
      ],
      "text/plain": [
       "  InvoiceNo StockCode                          Description  Quantity  \\\n",
       "0    536365    85123A   WHITE HANGING HEART T-LIGHT HOLDER         6   \n",
       "1    536365     71053                  WHITE METAL LANTERN         6   \n",
       "2    536365    84406B       CREAM CUPID HEARTS COAT HANGER         8   \n",
       "3    536365    84029G  KNITTED UNION FLAG HOT WATER BOTTLE         6   \n",
       "4    536365    84029E       RED WOOLLY HOTTIE WHITE HEART.         6   \n",
       "\n",
       "          InvoiceDate  UnitPrice  CustomerID         Country  \n",
       "0 2010-12-01 08:26:00       2.55     17850.0  United Kingdom  \n",
       "1 2010-12-01 08:26:00       3.39     17850.0  United Kingdom  \n",
       "2 2010-12-01 08:26:00       2.75     17850.0  United Kingdom  \n",
       "3 2010-12-01 08:26:00       3.39     17850.0  United Kingdom  \n",
       "4 2010-12-01 08:26:00       3.39     17850.0  United Kingdom  "
      ]
     },
     "execution_count": 2,
     "metadata": {},
     "output_type": "execute_result"
    }
   ],
   "source": [
    "#Import Online Retail Data containing transactions from 01/12/2010 and 09/12/2011\n",
    "Rtl_data = pd.read_excel('https://archive.ics.uci.edu/ml/machine-learning-databases/00352/Online%20Retail.xlsx')\n",
    "Rtl_data.head()"
   ]
  },
  {
   "cell_type": "markdown",
   "metadata": {},
   "source": [
    "# Exploratory data analysis"
   ]
  },
  {
   "cell_type": "code",
   "execution_count": 3,
   "metadata": {},
   "outputs": [
    {
     "data": {
      "text/plain": [
       "(541909, 8)"
      ]
     },
     "execution_count": 3,
     "metadata": {},
     "output_type": "execute_result"
    }
   ],
   "source": [
    "#Check the shape (number of columns and rows) in the dataset\n",
    "Rtl_data.shape"
   ]
  },
  {
   "cell_type": "code",
   "execution_count": 4,
   "metadata": {},
   "outputs": [
    {
     "data": {
      "text/plain": [
       "InvoiceNo           0\n",
       "StockCode           0\n",
       "Description      1454\n",
       "Quantity            0\n",
       "InvoiceDate         0\n",
       "UnitPrice           0\n",
       "CustomerID     135080\n",
       "Country             0\n",
       "dtype: int64"
      ]
     },
     "execution_count": 4,
     "metadata": {},
     "output_type": "execute_result"
    }
   ],
   "source": [
    "#Check for missing values in the dataset\n",
    "Rtl_data.isnull().sum(axis=0)"
   ]
  },
  {
   "cell_type": "code",
   "execution_count": 5,
   "metadata": {},
   "outputs": [
    {
     "data": {
      "text/plain": [
       "-80995"
      ]
     },
     "execution_count": 5,
     "metadata": {},
     "output_type": "execute_result"
    }
   ],
   "source": [
    "#Remove missing values from CustomerID column, can ignore missing values in description column\n",
    "Rtl_data = Rtl_data[pd.notnull(Rtl_data['CustomerID'])]\n",
    "\n",
    "#Validate if there are any negative values in Quantity column\n",
    "Rtl_data.Quantity.min()"
   ]
  },
  {
   "cell_type": "code",
   "execution_count": 6,
   "metadata": {},
   "outputs": [
    {
     "data": {
      "text/plain": [
       "0.0"
      ]
     },
     "execution_count": 6,
     "metadata": {},
     "output_type": "execute_result"
    }
   ],
   "source": [
    "#Validate if there are any negative values in UnitPrice column\n",
    "Rtl_data.UnitPrice.min()"
   ]
  },
  {
   "cell_type": "code",
   "execution_count": 7,
   "metadata": {},
   "outputs": [],
   "source": [
    "#Filter out records with negative values\n",
    "Rtl_data = Rtl_data[(Rtl_data['Quantity']>0)]\n"
   ]
  },
  {
   "cell_type": "code",
   "execution_count": 8,
   "metadata": {},
   "outputs": [],
   "source": [
    "#Convert the string date field to datetime\n",
    "Rtl_data['InvoiceDate'] = pd.to_datetime(Rtl_data['InvoiceDate'])"
   ]
  },
  {
   "cell_type": "code",
   "execution_count": 9,
   "metadata": {},
   "outputs": [],
   "source": [
    "#Add new column depicting total amount\n",
    "Rtl_data['TotalAmount'] = Rtl_data['Quantity'] * Rtl_data['UnitPrice']"
   ]
  },
  {
   "cell_type": "code",
   "execution_count": 10,
   "metadata": {},
   "outputs": [
    {
     "data": {
      "text/plain": [
       "(397924, 9)"
      ]
     },
     "execution_count": 10,
     "metadata": {},
     "output_type": "execute_result"
    }
   ],
   "source": [
    "#Check the shape (number of columns and rows) in the dataset after data is cleaned\n",
    "Rtl_data.shape"
   ]
  },
  {
   "cell_type": "code",
   "execution_count": 11,
   "metadata": {},
   "outputs": [
    {
     "data": {
      "text/html": [
       "<div>\n",
       "<style scoped>\n",
       "    .dataframe tbody tr th:only-of-type {\n",
       "        vertical-align: middle;\n",
       "    }\n",
       "\n",
       "    .dataframe tbody tr th {\n",
       "        vertical-align: top;\n",
       "    }\n",
       "\n",
       "    .dataframe thead th {\n",
       "        text-align: right;\n",
       "    }\n",
       "</style>\n",
       "<table border=\"1\" class=\"dataframe\">\n",
       "  <thead>\n",
       "    <tr style=\"text-align: right;\">\n",
       "      <th></th>\n",
       "      <th>InvoiceNo</th>\n",
       "      <th>StockCode</th>\n",
       "      <th>Description</th>\n",
       "      <th>Quantity</th>\n",
       "      <th>InvoiceDate</th>\n",
       "      <th>UnitPrice</th>\n",
       "      <th>CustomerID</th>\n",
       "      <th>Country</th>\n",
       "      <th>TotalAmount</th>\n",
       "    </tr>\n",
       "  </thead>\n",
       "  <tbody>\n",
       "    <tr>\n",
       "      <th>0</th>\n",
       "      <td>536365</td>\n",
       "      <td>85123A</td>\n",
       "      <td>WHITE HANGING HEART T-LIGHT HOLDER</td>\n",
       "      <td>6</td>\n",
       "      <td>2010-12-01 08:26:00</td>\n",
       "      <td>2.55</td>\n",
       "      <td>17850.0</td>\n",
       "      <td>United Kingdom</td>\n",
       "      <td>15.30</td>\n",
       "    </tr>\n",
       "    <tr>\n",
       "      <th>1</th>\n",
       "      <td>536365</td>\n",
       "      <td>71053</td>\n",
       "      <td>WHITE METAL LANTERN</td>\n",
       "      <td>6</td>\n",
       "      <td>2010-12-01 08:26:00</td>\n",
       "      <td>3.39</td>\n",
       "      <td>17850.0</td>\n",
       "      <td>United Kingdom</td>\n",
       "      <td>20.34</td>\n",
       "    </tr>\n",
       "    <tr>\n",
       "      <th>2</th>\n",
       "      <td>536365</td>\n",
       "      <td>84406B</td>\n",
       "      <td>CREAM CUPID HEARTS COAT HANGER</td>\n",
       "      <td>8</td>\n",
       "      <td>2010-12-01 08:26:00</td>\n",
       "      <td>2.75</td>\n",
       "      <td>17850.0</td>\n",
       "      <td>United Kingdom</td>\n",
       "      <td>22.00</td>\n",
       "    </tr>\n",
       "    <tr>\n",
       "      <th>3</th>\n",
       "      <td>536365</td>\n",
       "      <td>84029G</td>\n",
       "      <td>KNITTED UNION FLAG HOT WATER BOTTLE</td>\n",
       "      <td>6</td>\n",
       "      <td>2010-12-01 08:26:00</td>\n",
       "      <td>3.39</td>\n",
       "      <td>17850.0</td>\n",
       "      <td>United Kingdom</td>\n",
       "      <td>20.34</td>\n",
       "    </tr>\n",
       "    <tr>\n",
       "      <th>4</th>\n",
       "      <td>536365</td>\n",
       "      <td>84029E</td>\n",
       "      <td>RED WOOLLY HOTTIE WHITE HEART.</td>\n",
       "      <td>6</td>\n",
       "      <td>2010-12-01 08:26:00</td>\n",
       "      <td>3.39</td>\n",
       "      <td>17850.0</td>\n",
       "      <td>United Kingdom</td>\n",
       "      <td>20.34</td>\n",
       "    </tr>\n",
       "  </tbody>\n",
       "</table>\n",
       "</div>"
      ],
      "text/plain": [
       "  InvoiceNo StockCode                          Description  Quantity  \\\n",
       "0    536365    85123A   WHITE HANGING HEART T-LIGHT HOLDER         6   \n",
       "1    536365     71053                  WHITE METAL LANTERN         6   \n",
       "2    536365    84406B       CREAM CUPID HEARTS COAT HANGER         8   \n",
       "3    536365    84029G  KNITTED UNION FLAG HOT WATER BOTTLE         6   \n",
       "4    536365    84029E       RED WOOLLY HOTTIE WHITE HEART.         6   \n",
       "\n",
       "          InvoiceDate  UnitPrice  CustomerID         Country  TotalAmount  \n",
       "0 2010-12-01 08:26:00       2.55     17850.0  United Kingdom        15.30  \n",
       "1 2010-12-01 08:26:00       3.39     17850.0  United Kingdom        20.34  \n",
       "2 2010-12-01 08:26:00       2.75     17850.0  United Kingdom        22.00  \n",
       "3 2010-12-01 08:26:00       3.39     17850.0  United Kingdom        20.34  \n",
       "4 2010-12-01 08:26:00       3.39     17850.0  United Kingdom        20.34  "
      ]
     },
     "execution_count": 11,
     "metadata": {},
     "output_type": "execute_result"
    }
   ],
   "source": [
    "Rtl_data.head()"
   ]
  },
  {
   "cell_type": "code",
   "execution_count": 33,
   "metadata": {},
   "outputs": [
    {
     "data": {
      "text/html": [
       "<div>\n",
       "<style scoped>\n",
       "    .dataframe tbody tr th:only-of-type {\n",
       "        vertical-align: middle;\n",
       "    }\n",
       "\n",
       "    .dataframe tbody tr th {\n",
       "        vertical-align: top;\n",
       "    }\n",
       "\n",
       "    .dataframe thead th {\n",
       "        text-align: right;\n",
       "    }\n",
       "</style>\n",
       "<table border=\"1\" class=\"dataframe\">\n",
       "  <thead>\n",
       "    <tr style=\"text-align: right;\">\n",
       "      <th></th>\n",
       "      <th>index</th>\n",
       "      <th>CustomerID</th>\n",
       "      <th>StockCode</th>\n",
       "      <th>Recency</th>\n",
       "      <th>Frequency</th>\n",
       "      <th>Monetary</th>\n",
       "    </tr>\n",
       "  </thead>\n",
       "  <tbody>\n",
       "    <tr>\n",
       "      <th>0</th>\n",
       "      <td>0</td>\n",
       "      <td>12346.0</td>\n",
       "      <td>23166</td>\n",
       "      <td>325</td>\n",
       "      <td>1</td>\n",
       "      <td>77183.6</td>\n",
       "    </tr>\n",
       "    <tr>\n",
       "      <th>1</th>\n",
       "      <td>1</td>\n",
       "      <td>12347.0</td>\n",
       "      <td>16008</td>\n",
       "      <td>246</td>\n",
       "      <td>1</td>\n",
       "      <td>6.0</td>\n",
       "    </tr>\n",
       "    <tr>\n",
       "      <th>2</th>\n",
       "      <td>2</td>\n",
       "      <td>12347.0</td>\n",
       "      <td>17021</td>\n",
       "      <td>182</td>\n",
       "      <td>1</td>\n",
       "      <td>10.8</td>\n",
       "    </tr>\n",
       "    <tr>\n",
       "      <th>3</th>\n",
       "      <td>3</td>\n",
       "      <td>12347.0</td>\n",
       "      <td>20665</td>\n",
       "      <td>246</td>\n",
       "      <td>1</td>\n",
       "      <td>17.7</td>\n",
       "    </tr>\n",
       "    <tr>\n",
       "      <th>4</th>\n",
       "      <td>4</td>\n",
       "      <td>12347.0</td>\n",
       "      <td>20719</td>\n",
       "      <td>1</td>\n",
       "      <td>4</td>\n",
       "      <td>34.0</td>\n",
       "    </tr>\n",
       "  </tbody>\n",
       "</table>\n",
       "</div>"
      ],
      "text/plain": [
       "   index  CustomerID StockCode  Recency  Frequency  Monetary\n",
       "0      0     12346.0     23166      325          1   77183.6\n",
       "1      1     12347.0     16008      246          1       6.0\n",
       "2      2     12347.0     17021      182          1      10.8\n",
       "3      3     12347.0     20665      246          1      17.7\n",
       "4      4     12347.0     20719        1          4      34.0"
      ]
     },
     "execution_count": 33,
     "metadata": {},
     "output_type": "execute_result"
    }
   ],
   "source": [
    "#Recency = Latest Date - Last Inovice Data, Frequency = count of invoice no. of transaction(s), Monetary = Sum of Total \n",
    "#Amount for each customer\n",
    "import datetime as dt\n",
    "\n",
    "#Set Latest date 2011-12-10 as last invoice date was 2011-12-09. This is to calculate the number of days from recent purchase\n",
    "Latest_Date = Rtl_data['InvoiceDate'].max()\n",
    "#Latest_Date = dt.datetime(2011,12,10)\n",
    "\n",
    "#Create RFM Modelling scores for each customer\n",
    "RFMScores = Rtl_data.groupby(['CustomerID','StockCode'],as_index=False).agg({'InvoiceDate': lambda x: (Latest_Date - x.max()).days, 'InvoiceNo': lambda x: len(x), 'TotalAmount': lambda x: x.sum()})\n",
    "\n",
    "#Convert Invoice Date into type int\n",
    "RFMScores['InvoiceDate'] = RFMScores['InvoiceDate'].astype(int)\n",
    "\n",
    "#Rename column names to Recency, Frequency and Monetary\n",
    "RFMScores.rename(columns={'InvoiceDate': 'Recency', \n",
    "                         'InvoiceNo': 'Frequency', \n",
    "                         'TotalAmount': 'Monetary'}, inplace=True)\n",
    "\n",
    "RFMScores.reset_index().head()"
   ]
  },
  {
   "cell_type": "code",
   "execution_count": 32,
   "metadata": {},
   "outputs": [
    {
     "name": "stderr",
     "output_type": "stream",
     "text": [
      "C:\\Users\\SABYASACHI SENGUPTA\\Anaconda3\\lib\\site-packages\\seaborn\\distributions.py:2551: FutureWarning: `distplot` is a deprecated function and will be removed in a future version. Please adapt your code to use either `displot` (a figure-level function with similar flexibility) or `histplot` (an axes-level function for histograms).\n",
      "  warnings.warn(msg, FutureWarning)\n",
      "C:\\Users\\SABYASACHI SENGUPTA\\Anaconda3\\lib\\site-packages\\seaborn\\distributions.py:2551: FutureWarning: `distplot` is a deprecated function and will be removed in a future version. Please adapt your code to use either `displot` (a figure-level function with similar flexibility) or `histplot` (an axes-level function for histograms).\n",
      "  warnings.warn(msg, FutureWarning)\n",
      "C:\\Users\\SABYASACHI SENGUPTA\\Anaconda3\\lib\\site-packages\\seaborn\\distributions.py:2551: FutureWarning: `distplot` is a deprecated function and will be removed in a future version. Please adapt your code to use either `displot` (a figure-level function with similar flexibility) or `histplot` (an axes-level function for histograms).\n",
      "  warnings.warn(msg, FutureWarning)\n"
     ]
    },
    {
     "data": {
      "text/plain": [
       "Text(0.5,0,'Monetary')"
      ]
     },
     "execution_count": 32,
     "metadata": {},
     "output_type": "execute_result"
    },
    {
     "data": {
      "image/png": "[encoded data removed]",
      "text/plain": [
       "<Figure size 1440x576 with 3 Axes>"
      ]
     },
     "metadata": {
      "needs_background": "light"
     },
     "output_type": "display_data"
    }
   ],
   "source": [
    "#Exploring the RFM data \n",
    "\n",
    "fig, axes = plt.subplots(1, 3,figsize=(20,8))\n",
    "sns.distplot(np.array(RFMScores['Recency']),ax=axes[0])\n",
    "sns.distplot(np.array(RFMScores['Frequency']),ax=axes[1])\n",
    "sns.distplot(np.array(RFMScores['Monetary']),ax=axes[2])\n",
    "\n",
    "#axis labels\n",
    "axes[0].set_title('Recency Density Plot')\n",
    "axes[0].set_xlabel('Recency')\n",
    "\n",
    "axes[1].set_title('Frequency Density Plot')\n",
    "axes[1].set_xlabel('Frequency')\n",
    "\n",
    "axes[2].set_title('Monetary Density Plot')\n",
    "axes[2].set_xlabel('Monetary')\n"
   ]
  },
  {
   "cell_type": "markdown",
   "metadata": {},
   "source": [
    "# Data Preprocessing"
   ]
  },
  {
   "cell_type": "code",
   "execution_count": 34,
   "metadata": {},
   "outputs": [],
   "source": [
    "#Convert float type CustomerID to Int type as its an ID\n",
    "RFMScores['CustomerID'] =RFMScores['CustomerID'].astype(int)\n"
   ]
  },
  {
   "cell_type": "code",
   "execution_count": 37,
   "metadata": {},
   "outputs": [],
   "source": [
    "#Handle negative and zero values so as to handle infinite numbers during log transformation\n",
    "def handle_neg_n_zero(num):\n",
    "    if num <= 0:\n",
    "        return 1\n",
    "    else:\n",
    "        return num\n",
    "#Apply handle_neg_n_zero function to Recency and Monetary columns \n",
    "RFMScores['Recency'] = [handle_neg_n_zero(x) for x in RFMScores.Recency]\n",
    "RFMScores['Monetary'] = [handle_neg_n_zero(x) for x in RFMScores.Monetary]"
   ]
  },
  {
   "cell_type": "code",
   "execution_count": 100,
   "metadata": {},
   "outputs": [
    {
     "data": {
      "text/html": [
       "<div>\n",
       "<style scoped>\n",
       "    .dataframe tbody tr th:only-of-type {\n",
       "        vertical-align: middle;\n",
       "    }\n",
       "\n",
       "    .dataframe tbody tr th {\n",
       "        vertical-align: top;\n",
       "    }\n",
       "\n",
       "    .dataframe thead th {\n",
       "        text-align: right;\n",
       "    }\n",
       "</style>\n",
       "<table border=\"1\" class=\"dataframe\">\n",
       "  <thead>\n",
       "    <tr style=\"text-align: right;\">\n",
       "      <th></th>\n",
       "      <th>CustomerID</th>\n",
       "      <th>StockCode</th>\n",
       "      <th>Recency</th>\n",
       "      <th>Frequency</th>\n",
       "      <th>Monetary</th>\n",
       "    </tr>\n",
       "  </thead>\n",
       "  <tbody>\n",
       "    <tr>\n",
       "      <th>0</th>\n",
       "      <td>12346</td>\n",
       "      <td>23166</td>\n",
       "      <td>325</td>\n",
       "      <td>1</td>\n",
       "      <td>77183.6</td>\n",
       "    </tr>\n",
       "    <tr>\n",
       "      <th>1</th>\n",
       "      <td>12347</td>\n",
       "      <td>16008</td>\n",
       "      <td>246</td>\n",
       "      <td>1</td>\n",
       "      <td>6.0</td>\n",
       "    </tr>\n",
       "    <tr>\n",
       "      <th>2</th>\n",
       "      <td>12347</td>\n",
       "      <td>17021</td>\n",
       "      <td>182</td>\n",
       "      <td>1</td>\n",
       "      <td>10.8</td>\n",
       "    </tr>\n",
       "    <tr>\n",
       "      <th>3</th>\n",
       "      <td>12347</td>\n",
       "      <td>20665</td>\n",
       "      <td>246</td>\n",
       "      <td>1</td>\n",
       "      <td>17.7</td>\n",
       "    </tr>\n",
       "    <tr>\n",
       "      <th>4</th>\n",
       "      <td>12347</td>\n",
       "      <td>20719</td>\n",
       "      <td>1</td>\n",
       "      <td>4</td>\n",
       "      <td>34.0</td>\n",
       "    </tr>\n",
       "    <tr>\n",
       "      <th>...</th>\n",
       "      <td>...</td>\n",
       "      <td>...</td>\n",
       "      <td>...</td>\n",
       "      <td>...</td>\n",
       "      <td>...</td>\n",
       "    </tr>\n",
       "    <tr>\n",
       "      <th>266797</th>\n",
       "      <td>18287</td>\n",
       "      <td>72351B</td>\n",
       "      <td>58</td>\n",
       "      <td>1</td>\n",
       "      <td>50.4</td>\n",
       "    </tr>\n",
       "    <tr>\n",
       "      <th>266798</th>\n",
       "      <td>18287</td>\n",
       "      <td>84507C</td>\n",
       "      <td>201</td>\n",
       "      <td>1</td>\n",
       "      <td>15.3</td>\n",
       "    </tr>\n",
       "    <tr>\n",
       "      <th>266799</th>\n",
       "      <td>18287</td>\n",
       "      <td>85039A</td>\n",
       "      <td>58</td>\n",
       "      <td>2</td>\n",
       "      <td>139.2</td>\n",
       "    </tr>\n",
       "    <tr>\n",
       "      <th>266800</th>\n",
       "      <td>18287</td>\n",
       "      <td>85039B</td>\n",
       "      <td>58</td>\n",
       "      <td>3</td>\n",
       "      <td>176.4</td>\n",
       "    </tr>\n",
       "    <tr>\n",
       "      <th>266801</th>\n",
       "      <td>18287</td>\n",
       "      <td>85040A</td>\n",
       "      <td>201</td>\n",
       "      <td>2</td>\n",
       "      <td>79.2</td>\n",
       "    </tr>\n",
       "  </tbody>\n",
       "</table>\n",
       "<p>266802 rows × 5 columns</p>\n",
       "</div>"
      ],
      "text/plain": [
       "        CustomerID StockCode  Recency  Frequency  Monetary\n",
       "0            12346     23166      325          1   77183.6\n",
       "1            12347     16008      246          1       6.0\n",
       "2            12347     17021      182          1      10.8\n",
       "3            12347     20665      246          1      17.7\n",
       "4            12347     20719        1          4      34.0\n",
       "...            ...       ...      ...        ...       ...\n",
       "266797       18287    72351B       58          1      50.4\n",
       "266798       18287    84507C      201          1      15.3\n",
       "266799       18287    85039A       58          2     139.2\n",
       "266800       18287    85039B       58          3     176.4\n",
       "266801       18287    85040A      201          2      79.2\n",
       "\n",
       "[266802 rows x 5 columns]"
      ]
     },
     "execution_count": 100,
     "metadata": {},
     "output_type": "execute_result"
    }
   ],
   "source": [
    "RFMScores"
   ]
  },
  {
   "cell_type": "code",
   "execution_count": 39,
   "metadata": {},
   "outputs": [
    {
     "data": {
      "text/html": [
       "<div>\n",
       "<style scoped>\n",
       "    .dataframe tbody tr th:only-of-type {\n",
       "        vertical-align: middle;\n",
       "    }\n",
       "\n",
       "    .dataframe tbody tr th {\n",
       "        vertical-align: top;\n",
       "    }\n",
       "\n",
       "    .dataframe thead th {\n",
       "        text-align: right;\n",
       "    }\n",
       "</style>\n",
       "<table border=\"1\" class=\"dataframe\">\n",
       "  <thead>\n",
       "    <tr style=\"text-align: right;\">\n",
       "      <th></th>\n",
       "      <th>CustomerID</th>\n",
       "      <th>StockCode</th>\n",
       "      <th>Recency</th>\n",
       "      <th>Frequency</th>\n",
       "      <th>Monetary</th>\n",
       "    </tr>\n",
       "  </thead>\n",
       "  <tbody>\n",
       "    <tr>\n",
       "      <th>0</th>\n",
       "      <td>12346</td>\n",
       "      <td>23166</td>\n",
       "      <td>325</td>\n",
       "      <td>1</td>\n",
       "      <td>77183.6</td>\n",
       "    </tr>\n",
       "    <tr>\n",
       "      <th>1</th>\n",
       "      <td>12347</td>\n",
       "      <td>16008</td>\n",
       "      <td>246</td>\n",
       "      <td>1</td>\n",
       "      <td>6.0</td>\n",
       "    </tr>\n",
       "    <tr>\n",
       "      <th>2</th>\n",
       "      <td>12347</td>\n",
       "      <td>17021</td>\n",
       "      <td>182</td>\n",
       "      <td>1</td>\n",
       "      <td>10.8</td>\n",
       "    </tr>\n",
       "    <tr>\n",
       "      <th>3</th>\n",
       "      <td>12347</td>\n",
       "      <td>20665</td>\n",
       "      <td>246</td>\n",
       "      <td>1</td>\n",
       "      <td>17.7</td>\n",
       "    </tr>\n",
       "    <tr>\n",
       "      <th>4</th>\n",
       "      <td>12347</td>\n",
       "      <td>20719</td>\n",
       "      <td>1</td>\n",
       "      <td>4</td>\n",
       "      <td>34.0</td>\n",
       "    </tr>\n",
       "  </tbody>\n",
       "</table>\n",
       "</div>"
      ],
      "text/plain": [
       "   CustomerID StockCode  Recency  Frequency  Monetary\n",
       "0       12346     23166      325          1   77183.6\n",
       "1       12347     16008      246          1       6.0\n",
       "2       12347     17021      182          1      10.8\n",
       "3       12347     20665      246          1      17.7\n",
       "4       12347     20719        1          4      34.0"
      ]
     },
     "execution_count": 39,
     "metadata": {},
     "output_type": "execute_result"
    }
   ],
   "source": [
    "# Copy orginal data to processing data frame so as not loose original data integrity\n",
    "\n",
    "RFM_processes=RFMScores.copy()\n",
    "RFM_processes.head()"
   ]
  },
  {
   "cell_type": "code",
   "execution_count": 40,
   "metadata": {},
   "outputs": [
    {
     "data": {
      "text/html": [
       "<div>\n",
       "<style scoped>\n",
       "    .dataframe tbody tr th:only-of-type {\n",
       "        vertical-align: middle;\n",
       "    }\n",
       "\n",
       "    .dataframe tbody tr th {\n",
       "        vertical-align: top;\n",
       "    }\n",
       "\n",
       "    .dataframe thead th {\n",
       "        text-align: right;\n",
       "    }\n",
       "</style>\n",
       "<table border=\"1\" class=\"dataframe\">\n",
       "  <thead>\n",
       "    <tr style=\"text-align: right;\">\n",
       "      <th></th>\n",
       "      <th>Recency</th>\n",
       "      <th>Frequency</th>\n",
       "      <th>Monetary</th>\n",
       "    </tr>\n",
       "  </thead>\n",
       "  <tbody>\n",
       "    <tr>\n",
       "      <th>0</th>\n",
       "      <td>5.784</td>\n",
       "      <td>0.000</td>\n",
       "      <td>11.254</td>\n",
       "    </tr>\n",
       "    <tr>\n",
       "      <th>1</th>\n",
       "      <td>5.505</td>\n",
       "      <td>0.000</td>\n",
       "      <td>1.792</td>\n",
       "    </tr>\n",
       "    <tr>\n",
       "      <th>2</th>\n",
       "      <td>5.204</td>\n",
       "      <td>0.000</td>\n",
       "      <td>2.380</td>\n",
       "    </tr>\n",
       "    <tr>\n",
       "      <th>3</th>\n",
       "      <td>5.505</td>\n",
       "      <td>0.000</td>\n",
       "      <td>2.874</td>\n",
       "    </tr>\n",
       "    <tr>\n",
       "      <th>4</th>\n",
       "      <td>0.000</td>\n",
       "      <td>1.386</td>\n",
       "      <td>3.526</td>\n",
       "    </tr>\n",
       "  </tbody>\n",
       "</table>\n",
       "</div>"
      ],
      "text/plain": [
       "   Recency  Frequency  Monetary\n",
       "0    5.784      0.000    11.254\n",
       "1    5.505      0.000     1.792\n",
       "2    5.204      0.000     2.380\n",
       "3    5.505      0.000     2.874\n",
       "4    0.000      1.386     3.526"
      ]
     },
     "execution_count": 40,
     "metadata": {},
     "output_type": "execute_result"
    }
   ],
   "source": [
    "#Perform Log transformation to bring data into normal or near normal distribution\n",
    "Log_Tfd_Data = RFM_processes[['Recency', 'Frequency', 'Monetary']].apply(np.log, axis = 1).round(3)\n",
    "Log_Tfd_Data.head()"
   ]
  },
  {
   "cell_type": "code",
   "execution_count": 48,
   "metadata": {},
   "outputs": [
    {
     "name": "stderr",
     "output_type": "stream",
     "text": [
      "C:\\Users\\SABYASACHI SENGUPTA\\Anaconda3\\lib\\site-packages\\seaborn\\distributions.py:2551: FutureWarning: `distplot` is a deprecated function and will be removed in a future version. Please adapt your code to use either `displot` (a figure-level function with similar flexibility) or `histplot` (an axes-level function for histograms).\n",
      "  warnings.warn(msg, FutureWarning)\n",
      "C:\\Users\\SABYASACHI SENGUPTA\\Anaconda3\\lib\\site-packages\\seaborn\\distributions.py:2551: FutureWarning: `distplot` is a deprecated function and will be removed in a future version. Please adapt your code to use either `displot` (a figure-level function with similar flexibility) or `histplot` (an axes-level function for histograms).\n",
      "  warnings.warn(msg, FutureWarning)\n",
      "C:\\Users\\SABYASACHI SENGUPTA\\Anaconda3\\lib\\site-packages\\seaborn\\distributions.py:2551: FutureWarning: `distplot` is a deprecated function and will be removed in a future version. Please adapt your code to use either `displot` (a figure-level function with similar flexibility) or `histplot` (an axes-level function for histograms).\n",
      "  warnings.warn(msg, FutureWarning)\n"
     ]
    },
    {
     "data": {
      "text/plain": [
       "Text(0.5,0,'Monetary')"
      ]
     },
     "execution_count": 48,
     "metadata": {},
     "output_type": "execute_result"
    },
    {
     "data": {
      "image/png": "[encoded data removed]",
      "text/plain": [
       "<Figure size 1440x576 with 3 Axes>"
      ]
     },
     "metadata": {
      "needs_background": "light"
     },
     "output_type": "display_data"
    }
   ],
   "source": [
    "#Exploring the RFM data post Log transformation\n",
    "\n",
    "fig, axes = plt.subplots(1, 3,figsize=(20,8))\n",
    "sns.distplot(np.array(Log_Tfd_Data['Recency']),ax=axes[0])\n",
    "sns.distplot(np.array(Log_Tfd_Data['Frequency']),ax=axes[1])\n",
    "sns.distplot(np.array(Log_Tfd_Data['Monetary']),ax=axes[2])\n",
    "\n",
    "#axis labels\n",
    "axes[0].set_title('Recency Density Plot after Log transfrm')\n",
    "axes[0].set_xlabel('Recency')\n",
    "\n",
    "axes[1].set_title('Frequency Density Plot after Log transfrm')\n",
    "axes[1].set_xlabel('Frequency')\n",
    "\n",
    "axes[2].set_title('Monetary Density Plot after Log transfrm')\n",
    "axes[2].set_xlabel('Monetary')\n"
   ]
  },
  {
   "cell_type": "code",
   "execution_count": 44,
   "metadata": {},
   "outputs": [
    {
     "data": {
      "text/html": [
       "<div>\n",
       "<style scoped>\n",
       "    .dataframe tbody tr th:only-of-type {\n",
       "        vertical-align: middle;\n",
       "    }\n",
       "\n",
       "    .dataframe tbody tr th {\n",
       "        vertical-align: top;\n",
       "    }\n",
       "\n",
       "    .dataframe thead th {\n",
       "        text-align: right;\n",
       "    }\n",
       "</style>\n",
       "<table border=\"1\" class=\"dataframe\">\n",
       "  <thead>\n",
       "    <tr style=\"text-align: right;\">\n",
       "      <th></th>\n",
       "      <th>Recency</th>\n",
       "      <th>Frequency</th>\n",
       "      <th>Monetary</th>\n",
       "    </tr>\n",
       "  </thead>\n",
       "  <tbody>\n",
       "    <tr>\n",
       "      <th>0</th>\n",
       "      <td>0.976697</td>\n",
       "      <td>0.000000</td>\n",
       "      <td>0.958771</td>\n",
       "    </tr>\n",
       "    <tr>\n",
       "      <th>1</th>\n",
       "      <td>0.929585</td>\n",
       "      <td>0.000000</td>\n",
       "      <td>0.459273</td>\n",
       "    </tr>\n",
       "    <tr>\n",
       "      <th>2</th>\n",
       "      <td>0.878757</td>\n",
       "      <td>0.000000</td>\n",
       "      <td>0.490313</td>\n",
       "    </tr>\n",
       "    <tr>\n",
       "      <th>3</th>\n",
       "      <td>0.929585</td>\n",
       "      <td>0.000000</td>\n",
       "      <td>0.516391</td>\n",
       "    </tr>\n",
       "    <tr>\n",
       "      <th>4</th>\n",
       "      <td>0.000000</td>\n",
       "      <td>0.312796</td>\n",
       "      <td>0.550810</td>\n",
       "    </tr>\n",
       "  </tbody>\n",
       "</table>\n",
       "</div>"
      ],
      "text/plain": [
       "    Recency  Frequency  Monetary\n",
       "0  0.976697   0.000000  0.958771\n",
       "1  0.929585   0.000000  0.459273\n",
       "2  0.878757   0.000000  0.490313\n",
       "3  0.929585   0.000000  0.516391\n",
       "4  0.000000   0.312796  0.550810"
      ]
     },
     "execution_count": 44,
     "metadata": {},
     "output_type": "execute_result"
    }
   ],
   "source": [
    "#Inorder to scale RFM in the same scale of 0 - 1 , min max normalization is applied \n",
    "\n",
    "#min max normalizations - \n",
    "#\n",
    "# An= Ai-min(A)/(max(A) -min(A))\n",
    "#\n",
    "# Where An = normalized A\n",
    "#       Ai = current value\n",
    "\n",
    "\n",
    "def normalize(df):\n",
    "    result = df.copy()\n",
    "    for feature_name in df[['Recency','Frequency','Monetary']].columns:\n",
    "        max_value = df[feature_name].max()\n",
    "        min_value = df[feature_name].min()\n",
    "        result[feature_name] = (df[feature_name] - min_value) / (max_value - min_value)\n",
    "        \n",
    "    return result\n",
    "\n",
    "rfm_normalized=normalize(Log_Tfd_Data)\n",
    "rfm_normalized.head()"
   ]
  },
  {
   "cell_type": "code",
   "execution_count": 46,
   "metadata": {},
   "outputs": [
    {
     "name": "stderr",
     "output_type": "stream",
     "text": [
      "C:\\Users\\SABYASACHI SENGUPTA\\Anaconda3\\lib\\site-packages\\seaborn\\distributions.py:2551: FutureWarning: `distplot` is a deprecated function and will be removed in a future version. Please adapt your code to use either `displot` (a figure-level function with similar flexibility) or `histplot` (an axes-level function for histograms).\n",
      "  warnings.warn(msg, FutureWarning)\n",
      "C:\\Users\\SABYASACHI SENGUPTA\\Anaconda3\\lib\\site-packages\\seaborn\\distributions.py:2551: FutureWarning: `distplot` is a deprecated function and will be removed in a future version. Please adapt your code to use either `displot` (a figure-level function with similar flexibility) or `histplot` (an axes-level function for histograms).\n",
      "  warnings.warn(msg, FutureWarning)\n",
      "C:\\Users\\SABYASACHI SENGUPTA\\Anaconda3\\lib\\site-packages\\seaborn\\distributions.py:2551: FutureWarning: `distplot` is a deprecated function and will be removed in a future version. Please adapt your code to use either `displot` (a figure-level function with similar flexibility) or `histplot` (an axes-level function for histograms).\n",
      "  warnings.warn(msg, FutureWarning)\n"
     ]
    },
    {
     "data": {
      "text/plain": [
       "Text(0.5,0,'Monetary')"
      ]
     },
     "execution_count": 46,
     "metadata": {},
     "output_type": "execute_result"
    },
    {
     "data": {
      "image/png": "[encoded data removed]",
      "text/plain": [
       "<Figure size 1440x576 with 3 Axes>"
      ]
     },
     "metadata": {
      "needs_background": "light"
     },
     "output_type": "display_data"
    }
   ],
   "source": [
    "#Exploring the RFM data post data normalization\n",
    "\n",
    "fig, axes = plt.subplots(1, 3,figsize=(20,8))\n",
    "sns.distplot(np.array(rfm_normalized['Recency']),ax=axes[0])\n",
    "sns.distplot(np.array(rfm_normalized['Frequency']),ax=axes[1])\n",
    "sns.distplot(np.array(rfm_normalized['Monetary']),ax=axes[2])\n",
    "\n",
    "#axis labels\n",
    "axes[0].set_title('Recency Density Plot on Normalized data')\n",
    "axes[0].set_xlabel('Recency')\n",
    "\n",
    "axes[1].set_title('Frequency Density Plot on Normalized data')\n",
    "axes[1].set_xlabel('Frequency')\n",
    "\n",
    "axes[2].set_title('Monetary Density Plot on Normalized data')\n",
    "axes[2].set_xlabel('Monetary')"
   ]
  },
  {
   "cell_type": "markdown",
   "metadata": {},
   "source": [
    "# K-means Clustering"
   ]
  },
  {
   "cell_type": "code",
   "execution_count": 49,
   "metadata": {},
   "outputs": [],
   "source": [
    "#Custom cluster function which takes \n",
    "# k = number of clusters\n",
    "# n = number of iterations\n",
    "# x = numpy data to perform clustering \n",
    "\n",
    "#random centroids by using shuffle func\n",
    "def int_centroids(x,k):\n",
    "    centroids=x.copy()\n",
    "    print(centroids)\n",
    "    np.random.shuffle(centroids)\n",
    "    return centroids[:k]\n",
    "#find the closest centroids \n",
    "\n",
    "def closest_centroid(x,centroids):\n",
    "    dist=  np.sqrt(((x-centroids[:,np.newaxis])**2).sum(axis=2))\n",
    "    return (np.argmin(dist,axis=0))\n",
    "\n",
    "def move_centre(x,closest,centroids):\n",
    "    #find the closest centroid for a given point\n",
    "    new_centroid= np.array([x[closest==k].mean(axis=0) for k in range(centroids.shape[0])])\n",
    "    \n",
    "    centd_diff= centroids-new_centroid\n",
    "    \n",
    "    #print('Old centroid :' ,centroids)\n",
    "    #print('new centroid :' ,new_centroid)\n",
    "    #print('Sum of diff :',sum(sum(centd_diff)))\n",
    "    \n",
    "    if (sum(sum(centd_diff))==0):\n",
    "        conv='CONVERGENCE'\n",
    "    else:\n",
    "        conv='NEW CENTROID SEARCHED'\n",
    "    return new_centroid,conv\n",
    "\n",
    "#function to call initialize functions,get cnetroids and measure the distance to the closest cluster untill converenge\n",
    "# with iterations as an function\n",
    "\n",
    "def my_fit(x,k,n):\n",
    "    centroids=int_centroids(x,k)\n",
    "    closest =closest_centroid(x,centroids)\n",
    "    centroids,conv=move_centre(x,closest,centroids)\n",
    "    #loop for convergence\n",
    "    for i in range(n):\n",
    "    \n",
    "        closest =closest_centroid(x,centroids)\n",
    "        centroids,conv=move_centre(x,closest,centroids)\n",
    "           #print('centroids after:',centroids ,conv)\n",
    "    #print(conv)\n",
    "    return(conv,closest)"
   ]
  },
  {
   "cell_type": "code",
   "execution_count": 120,
   "metadata": {},
   "outputs": [],
   "source": [
    "def clus_plots(df):\n",
    "    \n",
    "    fig, axes = plt.subplots(2, 2,figsize=(10,10))\n",
    "    #fig.suptitle('1 row x 2 columns axes with no data')\n",
    "    axes[0][0].scatter(df['Recency'],df['cls'],c=np.array(df['cls']))\n",
    "    #fig.colorbar(sc1, ax=axes[0])\n",
    "\n",
    "    axes[0][1].scatter(df['Frequency'],df['cls'],c=np.array(df['cls']))\n",
    "    #fig.colorbar(sc2, ax=axes[1])\n",
    "    \n",
    "    axes[1][0].scatter(df['Monetary']/1000,df['cls'],c=np.array(df['cls']))\n",
    "\n",
    "    sns.distplot(np.array(df['cls']),ax=axes[1][1])\n",
    "\n",
    "    #sns.distplot(df,x='Recency',ax=axes[1,1],data=x=np.array(df['Recency']),color=np.array(df['cls1']))\n",
    "    #sns.distplot(ax=axes[1,1],\n",
    "\n",
    "    axes[0][0].set_title('Recency v/s Cluster Plot')\n",
    "    axes[0][0].set_xlabel('Recency')\n",
    "    axes[0][0].set_ylabel('Clusters')\n",
    "\n",
    "    axes[0][1].set_title('Frequency v/s Cluster Plot')\n",
    "    axes[0][1].set_xlabel('Frequency')\n",
    "    axes[0][1].set_ylabel('Clusters')\n",
    "    \n",
    "    axes[1][0].set_title('Monetary v/s Cluster Plot')\n",
    "    axes[1][0].set_xlabel('Monetary in Thousands')\n",
    "    axes[1][0].set_ylabel('Clusters')\n",
    "    \n",
    "    axes[1][1].set_title('Cluster Density Plot')\n",
    "    axes[1][1].set_xlabel('Cluster')\n",
    "  "
   ]
  },
  {
   "cell_type": "code",
   "execution_count": 53,
   "metadata": {},
   "outputs": [
    {
     "name": "stdout",
     "output_type": "stream",
     "text": [
      "[[0.97669706 0.         0.95877105]\n",
      " [0.9295846  0.         0.45927255]\n",
      " [0.87875718 0.         0.49031304]\n",
      " ...\n",
      " [0.6855792  0.1563981  0.62524415]\n",
      " [0.6855792  0.24802528 0.63775537]\n",
      " [0.8954745  0.1563981  0.59547062]]\n",
      "Convergence value: CONVERGENCE\n",
      "Cluster labels: [1 1 1 ... 2 2 1]\n"
     ]
    },
    {
     "data": {
      "text/html": [
       "<div>\n",
       "<style scoped>\n",
       "    .dataframe tbody tr th:only-of-type {\n",
       "        vertical-align: middle;\n",
       "    }\n",
       "\n",
       "    .dataframe tbody tr th {\n",
       "        vertical-align: top;\n",
       "    }\n",
       "\n",
       "    .dataframe thead th {\n",
       "        text-align: right;\n",
       "    }\n",
       "</style>\n",
       "<table border=\"1\" class=\"dataframe\">\n",
       "  <thead>\n",
       "    <tr style=\"text-align: right;\">\n",
       "      <th></th>\n",
       "      <th>CustomerID</th>\n",
       "      <th>StockCode</th>\n",
       "      <th>Recency</th>\n",
       "      <th>Frequency</th>\n",
       "      <th>Monetary</th>\n",
       "      <th>cls</th>\n",
       "    </tr>\n",
       "  </thead>\n",
       "  <tbody>\n",
       "    <tr>\n",
       "      <th>0</th>\n",
       "      <td>12346</td>\n",
       "      <td>23166</td>\n",
       "      <td>325</td>\n",
       "      <td>1</td>\n",
       "      <td>77183.6</td>\n",
       "      <td>1</td>\n",
       "    </tr>\n",
       "    <tr>\n",
       "      <th>1</th>\n",
       "      <td>12347</td>\n",
       "      <td>16008</td>\n",
       "      <td>246</td>\n",
       "      <td>1</td>\n",
       "      <td>6.0</td>\n",
       "      <td>1</td>\n",
       "    </tr>\n",
       "    <tr>\n",
       "      <th>2</th>\n",
       "      <td>12347</td>\n",
       "      <td>17021</td>\n",
       "      <td>182</td>\n",
       "      <td>1</td>\n",
       "      <td>10.8</td>\n",
       "      <td>1</td>\n",
       "    </tr>\n",
       "    <tr>\n",
       "      <th>3</th>\n",
       "      <td>12347</td>\n",
       "      <td>20665</td>\n",
       "      <td>246</td>\n",
       "      <td>1</td>\n",
       "      <td>17.7</td>\n",
       "      <td>1</td>\n",
       "    </tr>\n",
       "    <tr>\n",
       "      <th>4</th>\n",
       "      <td>12347</td>\n",
       "      <td>20719</td>\n",
       "      <td>1</td>\n",
       "      <td>4</td>\n",
       "      <td>34.0</td>\n",
       "      <td>0</td>\n",
       "    </tr>\n",
       "  </tbody>\n",
       "</table>\n",
       "</div>"
      ],
      "text/plain": [
       "   CustomerID StockCode  Recency  Frequency  Monetary  cls\n",
       "0       12346     23166      325          1   77183.6    1\n",
       "1       12347     16008      246          1       6.0    1\n",
       "2       12347     17021      182          1      10.8    1\n",
       "3       12347     20665      246          1      17.7    1\n",
       "4       12347     20719        1          4      34.0    0"
      ]
     },
     "execution_count": 53,
     "metadata": {},
     "output_type": "execute_result"
    }
   ],
   "source": [
    "#perform cluster test for k=3\n",
    "\n",
    "k=3\n",
    "n=100\n",
    "conv,cluster_3=my_fit(np.array(rfm_normalized),k,n)\n",
    "print('Convergence value:',conv)\n",
    "print('Cluster labels:',cluster_3)\n",
    "#create a df for 3 cluster value mappingRFM_clus3\n",
    "RFM_clus3=RFM_processes.copy()\n",
    "RFM_clus3['cls']=cluster_3\n",
    "RFM_clus3.head()\n"
   ]
  },
  {
   "cell_type": "code",
   "execution_count": 121,
   "metadata": {},
   "outputs": [
    {
     "name": "stderr",
     "output_type": "stream",
     "text": [
      "C:\\Users\\SABYASACHI SENGUPTA\\Anaconda3\\lib\\site-packages\\seaborn\\distributions.py:2551: FutureWarning: `distplot` is a deprecated function and will be removed in a future version. Please adapt your code to use either `displot` (a figure-level function with similar flexibility) or `histplot` (an axes-level function for histograms).\n",
      "  warnings.warn(msg, FutureWarning)\n"
     ]
    },
    {
     "data": {
      "image/png": "[encoded data removed]",
      "text/plain": [
       "<Figure size 720x720 with 4 Axes>"
      ]
     },
     "metadata": {
      "needs_background": "light"
     },
     "output_type": "display_data"
    }
   ],
   "source": [
    "#plot for k=3 clusters\n",
    "clus_plots(RFM_clus3)"
   ]
  },
  {
   "cell_type": "code",
   "execution_count": 67,
   "metadata": {},
   "outputs": [
    {
     "name": "stdout",
     "output_type": "stream",
     "text": [
      "[[0.97669706 0.         0.95877105]\n",
      " [0.9295846  0.         0.45927255]\n",
      " [0.87875718 0.         0.49031304]\n",
      " ...\n",
      " [0.6855792  0.1563981  0.62524415]\n",
      " [0.6855792  0.24802528 0.63775537]\n",
      " [0.8954745  0.1563981  0.59547062]]\n",
      "Convergence value: CONVERGENCE\n",
      "Cluster labels: [2 2 2 ... 0 0 0]\n"
     ]
    },
    {
     "data": {
      "text/html": [
       "<div>\n",
       "<style scoped>\n",
       "    .dataframe tbody tr th:only-of-type {\n",
       "        vertical-align: middle;\n",
       "    }\n",
       "\n",
       "    .dataframe tbody tr th {\n",
       "        vertical-align: top;\n",
       "    }\n",
       "\n",
       "    .dataframe thead th {\n",
       "        text-align: right;\n",
       "    }\n",
       "</style>\n",
       "<table border=\"1\" class=\"dataframe\">\n",
       "  <thead>\n",
       "    <tr style=\"text-align: right;\">\n",
       "      <th></th>\n",
       "      <th>CustomerID</th>\n",
       "      <th>StockCode</th>\n",
       "      <th>Recency</th>\n",
       "      <th>Frequency</th>\n",
       "      <th>Monetary</th>\n",
       "      <th>cls</th>\n",
       "    </tr>\n",
       "  </thead>\n",
       "  <tbody>\n",
       "    <tr>\n",
       "      <th>0</th>\n",
       "      <td>12346</td>\n",
       "      <td>23166</td>\n",
       "      <td>325</td>\n",
       "      <td>1</td>\n",
       "      <td>77183.6</td>\n",
       "      <td>2</td>\n",
       "    </tr>\n",
       "    <tr>\n",
       "      <th>1</th>\n",
       "      <td>12347</td>\n",
       "      <td>16008</td>\n",
       "      <td>246</td>\n",
       "      <td>1</td>\n",
       "      <td>6.0</td>\n",
       "      <td>2</td>\n",
       "    </tr>\n",
       "    <tr>\n",
       "      <th>2</th>\n",
       "      <td>12347</td>\n",
       "      <td>17021</td>\n",
       "      <td>182</td>\n",
       "      <td>1</td>\n",
       "      <td>10.8</td>\n",
       "      <td>2</td>\n",
       "    </tr>\n",
       "    <tr>\n",
       "      <th>3</th>\n",
       "      <td>12347</td>\n",
       "      <td>20665</td>\n",
       "      <td>246</td>\n",
       "      <td>1</td>\n",
       "      <td>17.7</td>\n",
       "      <td>2</td>\n",
       "    </tr>\n",
       "    <tr>\n",
       "      <th>4</th>\n",
       "      <td>12347</td>\n",
       "      <td>20719</td>\n",
       "      <td>1</td>\n",
       "      <td>4</td>\n",
       "      <td>34.0</td>\n",
       "      <td>3</td>\n",
       "    </tr>\n",
       "  </tbody>\n",
       "</table>\n",
       "</div>"
      ],
      "text/plain": [
       "   CustomerID StockCode  Recency  Frequency  Monetary  cls\n",
       "0       12346     23166      325          1   77183.6    2\n",
       "1       12347     16008      246          1       6.0    2\n",
       "2       12347     17021      182          1      10.8    2\n",
       "3       12347     20665      246          1      17.7    2\n",
       "4       12347     20719        1          4      34.0    3"
      ]
     },
     "execution_count": 67,
     "metadata": {},
     "output_type": "execute_result"
    }
   ],
   "source": [
    "#perform cluster test for k=5\n",
    "\n",
    "k=5\n",
    "n=100\n",
    "conv,cluster_5=my_fit(np.array(rfm_normalized),k,n)\n",
    "print('Convergence value:',conv)\n",
    "print('Cluster labels:',cluster_5)\n",
    "\n",
    "#create a df for 5 cluster value mappingRFM_clus3\n",
    "RFM_clus5=RFM_processes.copy()\n",
    "RFM_clus5['cls']=cluster_5\n",
    "RFM_clus5.head()"
   ]
  },
  {
   "cell_type": "code",
   "execution_count": 122,
   "metadata": {},
   "outputs": [
    {
     "name": "stderr",
     "output_type": "stream",
     "text": [
      "C:\\Users\\SABYASACHI SENGUPTA\\Anaconda3\\lib\\site-packages\\seaborn\\distributions.py:2551: FutureWarning: `distplot` is a deprecated function and will be removed in a future version. Please adapt your code to use either `displot` (a figure-level function with similar flexibility) or `histplot` (an axes-level function for histograms).\n",
      "  warnings.warn(msg, FutureWarning)\n"
     ]
    },
    {
     "data": {
      "image/png": "[encoded data removed]",
      "text/plain": [
       "<Figure size 720x720 with 4 Axes>"
      ]
     },
     "metadata": {
      "needs_background": "light"
     },
     "output_type": "display_data"
    }
   ],
   "source": [
    "#plot for k=5 clusters\n",
    "clus_plots(RFM_clus5)"
   ]
  },
  {
   "cell_type": "code",
   "execution_count": 65,
   "metadata": {},
   "outputs": [
    {
     "name": "stdout",
     "output_type": "stream",
     "text": [
      "[[0.97669706 0.         0.95877105]\n",
      " [0.9295846  0.         0.45927255]\n",
      " [0.87875718 0.         0.49031304]\n",
      " ...\n",
      " [0.6855792  0.1563981  0.62524415]\n",
      " [0.6855792  0.24802528 0.63775537]\n",
      " [0.8954745  0.1563981  0.59547062]]\n",
      "Convergence value: CONVERGENCE\n",
      "Cluster labels: [3 5 2 ... 1 1 1]\n"
     ]
    },
    {
     "data": {
      "text/html": [
       "<div>\n",
       "<style scoped>\n",
       "    .dataframe tbody tr th:only-of-type {\n",
       "        vertical-align: middle;\n",
       "    }\n",
       "\n",
       "    .dataframe tbody tr th {\n",
       "        vertical-align: top;\n",
       "    }\n",
       "\n",
       "    .dataframe thead th {\n",
       "        text-align: right;\n",
       "    }\n",
       "</style>\n",
       "<table border=\"1\" class=\"dataframe\">\n",
       "  <thead>\n",
       "    <tr style=\"text-align: right;\">\n",
       "      <th></th>\n",
       "      <th>CustomerID</th>\n",
       "      <th>StockCode</th>\n",
       "      <th>Recency</th>\n",
       "      <th>Frequency</th>\n",
       "      <th>Monetary</th>\n",
       "      <th>cls</th>\n",
       "    </tr>\n",
       "  </thead>\n",
       "  <tbody>\n",
       "    <tr>\n",
       "      <th>0</th>\n",
       "      <td>12346</td>\n",
       "      <td>23166</td>\n",
       "      <td>325</td>\n",
       "      <td>1</td>\n",
       "      <td>77183.6</td>\n",
       "      <td>3</td>\n",
       "    </tr>\n",
       "    <tr>\n",
       "      <th>1</th>\n",
       "      <td>12347</td>\n",
       "      <td>16008</td>\n",
       "      <td>246</td>\n",
       "      <td>1</td>\n",
       "      <td>6.0</td>\n",
       "      <td>5</td>\n",
       "    </tr>\n",
       "    <tr>\n",
       "      <th>2</th>\n",
       "      <td>12347</td>\n",
       "      <td>17021</td>\n",
       "      <td>182</td>\n",
       "      <td>1</td>\n",
       "      <td>10.8</td>\n",
       "      <td>2</td>\n",
       "    </tr>\n",
       "    <tr>\n",
       "      <th>3</th>\n",
       "      <td>12347</td>\n",
       "      <td>20665</td>\n",
       "      <td>246</td>\n",
       "      <td>1</td>\n",
       "      <td>17.7</td>\n",
       "      <td>3</td>\n",
       "    </tr>\n",
       "    <tr>\n",
       "      <th>4</th>\n",
       "      <td>12347</td>\n",
       "      <td>20719</td>\n",
       "      <td>1</td>\n",
       "      <td>4</td>\n",
       "      <td>34.0</td>\n",
       "      <td>4</td>\n",
       "    </tr>\n",
       "  </tbody>\n",
       "</table>\n",
       "</div>"
      ],
      "text/plain": [
       "   CustomerID StockCode  Recency  Frequency  Monetary  cls\n",
       "0       12346     23166      325          1   77183.6    3\n",
       "1       12347     16008      246          1       6.0    5\n",
       "2       12347     17021      182          1      10.8    2\n",
       "3       12347     20665      246          1      17.7    3\n",
       "4       12347     20719        1          4      34.0    4"
      ]
     },
     "execution_count": 65,
     "metadata": {},
     "output_type": "execute_result"
    }
   ],
   "source": [
    "#perform cluster test for k=9\n",
    "\n",
    "k=9\n",
    "n=100\n",
    "conv,cluster_9=my_fit(np.array(rfm_normalized),k,n)\n",
    "print('Convergence value:',conv)\n",
    "print('Cluster labels:',cluster_9)\n",
    "\n",
    "#create a df for 9 cluster value mappingRFM_clus3\n",
    "RFM_clus9=RFM_processes.copy()\n",
    "RFM_clus9['cls']=cluster_9\n",
    "RFM_clus9.head()"
   ]
  },
  {
   "cell_type": "code",
   "execution_count": 123,
   "metadata": {},
   "outputs": [
    {
     "name": "stderr",
     "output_type": "stream",
     "text": [
      "C:\\Users\\SABYASACHI SENGUPTA\\Anaconda3\\lib\\site-packages\\seaborn\\distributions.py:2551: FutureWarning: `distplot` is a deprecated function and will be removed in a future version. Please adapt your code to use either `displot` (a figure-level function with similar flexibility) or `histplot` (an axes-level function for histograms).\n",
      "  warnings.warn(msg, FutureWarning)\n"
     ]
    },
    {
     "data": {
      "image/png": "[encoded data removed]",
      "text/plain": [
       "<Figure size 720x720 with 4 Axes>"
      ]
     },
     "metadata": {
      "needs_background": "light"
     },
     "output_type": "display_data"
    }
   ],
   "source": [
    "#plot for k=9 clusters\n",
    "clus_plots(RFM_clus9)"
   ]
  },
  {
   "cell_type": "markdown",
   "metadata": {},
   "source": [
    "# Ranking for all the cluster segments"
   ]
  },
  {
   "cell_type": "code",
   "execution_count": 113,
   "metadata": {},
   "outputs": [],
   "source": [
    "#function to get the rank for clustered segments \n",
    "def fn_rankclus(x):\n",
    "    g=x.groupby('cls',as_index=False).agg({'Recency':'mean',\n",
    "                                                       'Frequency':'mean',\n",
    "                                                       'Monetary':'mean',\n",
    "                                                       'CustomerID':'count'})\n",
    "\n",
    "    g=g.rename(columns={'CustomerID': 'CustomerCount'})\n",
    "                              \n",
    "    glog = g[['Recency', 'Frequency', 'Monetary']].apply(np.log, axis = 1).round(3)\n",
    "    \n",
    "    #normalized the RFM metrics before applying ank clustering \n",
    "    gnormal=normalize(glog[['Recency','Frequency','Monetary']])\n",
    "\n",
    "    print(gnormal)\n",
    "    #applied 2^n on RFM and added the rank on the non normalized dataframe n=0 to 2  \n",
    "    g['rank_poswt']=1*gnormal.Recency +2*gnormal.Frequency+4*gnormal.Monetary\n",
    "    \n",
    "    #Experiment applied 2^n on RFM ,with -ive wt on R and added the rank on dataframe n=0 to 2\n",
    "    g['rank_negwt']=-1*gnormal.Recency +2*gnormal.Frequency+4*gnormal.Monetary\n",
    "\n",
    "    #dfm=pd.concat((dfm[['CustomerID','StockCode']],dfz),axis=1)\n",
    "    return g.sort_values('rank_poswt',ascending=False)"
   ]
  },
  {
   "cell_type": "code",
   "execution_count": 114,
   "metadata": {},
   "outputs": [
    {
     "name": "stdout",
     "output_type": "stream",
     "text": [
      "    Recency  Frequency  Monetary\n",
      "0  0.000000   1.000000  1.000000\n",
      "1  1.000000   0.000000  0.000000\n",
      "2  0.561168   0.275946  0.275742\n"
     ]
    },
    {
     "data": {
      "text/html": [
       "<div>\n",
       "<style scoped>\n",
       "    .dataframe tbody tr th:only-of-type {\n",
       "        vertical-align: middle;\n",
       "    }\n",
       "\n",
       "    .dataframe tbody tr th {\n",
       "        vertical-align: top;\n",
       "    }\n",
       "\n",
       "    .dataframe thead th {\n",
       "        text-align: right;\n",
       "    }\n",
       "</style>\n",
       "<table border=\"1\" class=\"dataframe\">\n",
       "  <thead>\n",
       "    <tr style=\"text-align: right;\">\n",
       "      <th></th>\n",
       "      <th>cls</th>\n",
       "      <th>Recency</th>\n",
       "      <th>Frequency</th>\n",
       "      <th>Monetary</th>\n",
       "      <th>CustomerCount</th>\n",
       "      <th>rank_poswt</th>\n",
       "      <th>rank_negwt</th>\n",
       "    </tr>\n",
       "  </thead>\n",
       "  <tbody>\n",
       "    <tr>\n",
       "      <th>0</th>\n",
       "      <td>0</td>\n",
       "      <td>7.463203</td>\n",
       "      <td>2.734072</td>\n",
       "      <td>76.198750</td>\n",
       "      <td>29350</td>\n",
       "      <td>6.000000</td>\n",
       "      <td>6.000000</td>\n",
       "    </tr>\n",
       "    <tr>\n",
       "      <th>2</th>\n",
       "      <td>2</td>\n",
       "      <td>51.011849</td>\n",
       "      <td>1.511902</td>\n",
       "      <td>33.208884</td>\n",
       "      <td>102713</td>\n",
       "      <td>2.216027</td>\n",
       "      <td>1.093692</td>\n",
       "    </tr>\n",
       "    <tr>\n",
       "      <th>1</th>\n",
       "      <td>1</td>\n",
       "      <td>229.360044</td>\n",
       "      <td>1.205197</td>\n",
       "      <td>24.224616</td>\n",
       "      <td>134739</td>\n",
       "      <td>1.000000</td>\n",
       "      <td>-1.000000</td>\n",
       "    </tr>\n",
       "  </tbody>\n",
       "</table>\n",
       "</div>"
      ],
      "text/plain": [
       "   cls     Recency  Frequency   Monetary  CustomerCount  rank_poswt  \\\n",
       "0    0    7.463203   2.734072  76.198750          29350    6.000000   \n",
       "2    2   51.011849   1.511902  33.208884         102713    2.216027   \n",
       "1    1  229.360044   1.205197  24.224616         134739    1.000000   \n",
       "\n",
       "   rank_negwt  \n",
       "0    6.000000  \n",
       "2    1.093692  \n",
       "1   -1.000000  "
      ]
     },
     "execution_count": 114,
     "metadata": {},
     "output_type": "execute_result"
    }
   ],
   "source": [
    "#Checking for K=3\n",
    "fn_rankclus(RFM_clus3)"
   ]
  },
  {
   "cell_type": "code",
   "execution_count": 115,
   "metadata": {},
   "outputs": [
    {
     "name": "stdout",
     "output_type": "stream",
     "text": [
      "    Recency  Frequency  Monetary\n",
      "0  0.880164   0.705615  0.806316\n",
      "1  0.601745   0.019727  0.000000\n",
      "2  1.000000   0.000000  0.052632\n",
      "3  0.000000   0.443096  0.555263\n",
      "4  0.402874   1.000000  1.000000\n"
     ]
    },
    {
     "data": {
      "text/html": [
       "<div>\n",
       "<style scoped>\n",
       "    .dataframe tbody tr th:only-of-type {\n",
       "        vertical-align: middle;\n",
       "    }\n",
       "\n",
       "    .dataframe tbody tr th {\n",
       "        vertical-align: top;\n",
       "    }\n",
       "\n",
       "    .dataframe thead th {\n",
       "        text-align: right;\n",
       "    }\n",
       "</style>\n",
       "<table border=\"1\" class=\"dataframe\">\n",
       "  <thead>\n",
       "    <tr style=\"text-align: right;\">\n",
       "      <th></th>\n",
       "      <th>cls</th>\n",
       "      <th>Recency</th>\n",
       "      <th>Frequency</th>\n",
       "      <th>Monetary</th>\n",
       "      <th>CustomerCount</th>\n",
       "      <th>rank_poswt</th>\n",
       "      <th>rank_negwt</th>\n",
       "    </tr>\n",
       "  </thead>\n",
       "  <tbody>\n",
       "    <tr>\n",
       "      <th>4</th>\n",
       "      <td>4</td>\n",
       "      <td>23.157638</td>\n",
       "      <td>3.774637</td>\n",
       "      <td>107.043401</td>\n",
       "      <td>22355</td>\n",
       "      <td>6.402874</td>\n",
       "      <td>5.597126</td>\n",
       "    </tr>\n",
       "    <tr>\n",
       "      <th>0</th>\n",
       "      <td>0</td>\n",
       "      <td>148.731605</td>\n",
       "      <td>2.559498</td>\n",
       "      <td>74.044394</td>\n",
       "      <td>31707</td>\n",
       "      <td>5.516657</td>\n",
       "      <td>3.756328</td>\n",
       "    </tr>\n",
       "    <tr>\n",
       "      <th>3</th>\n",
       "      <td>3</td>\n",
       "      <td>4.816205</td>\n",
       "      <td>1.810403</td>\n",
       "      <td>45.972889</td>\n",
       "      <td>19130</td>\n",
       "      <td>3.107244</td>\n",
       "      <td>3.107244</td>\n",
       "    </tr>\n",
       "    <tr>\n",
       "      <th>2</th>\n",
       "      <td>2</td>\n",
       "      <td>237.184612</td>\n",
       "      <td>1.010518</td>\n",
       "      <td>17.693472</td>\n",
       "      <td>113996</td>\n",
       "      <td>1.210526</td>\n",
       "      <td>-0.789474</td>\n",
       "    </tr>\n",
       "    <tr>\n",
       "      <th>1</th>\n",
       "      <td>1</td>\n",
       "      <td>50.225023</td>\n",
       "      <td>1.037004</td>\n",
       "      <td>16.005862</td>\n",
       "      <td>79614</td>\n",
       "      <td>0.641199</td>\n",
       "      <td>-0.562291</td>\n",
       "    </tr>\n",
       "  </tbody>\n",
       "</table>\n",
       "</div>"
      ],
      "text/plain": [
       "   cls     Recency  Frequency    Monetary  CustomerCount  rank_poswt  \\\n",
       "4    4   23.157638   3.774637  107.043401          22355    6.402874   \n",
       "0    0  148.731605   2.559498   74.044394          31707    5.516657   \n",
       "3    3    4.816205   1.810403   45.972889          19130    3.107244   \n",
       "2    2  237.184612   1.010518   17.693472         113996    1.210526   \n",
       "1    1   50.225023   1.037004   16.005862          79614    0.641199   \n",
       "\n",
       "   rank_negwt  \n",
       "4    5.597126  \n",
       "0    3.756328  \n",
       "3    3.107244  \n",
       "2   -0.789474  \n",
       "1   -0.562291  "
      ]
     },
     "execution_count": 115,
     "metadata": {},
     "output_type": "execute_result"
    }
   ],
   "source": [
    "#Checking for K=5\n",
    "fn_rankclus(RFM_clus5)"
   ]
  },
  {
   "cell_type": "code",
   "execution_count": 116,
   "metadata": {},
   "outputs": [
    {
     "name": "stdout",
     "output_type": "stream",
     "text": [
      "    Recency  Frequency  Monetary\n",
      "0  0.525566   0.960576  0.944009\n",
      "1  0.870062   0.711145  0.853395\n",
      "2  0.857630   0.000000  0.468488\n",
      "3  1.000000   0.013647  0.568028\n",
      "4  0.000000   1.000000  1.000000\n",
      "5  0.992581   0.030326  0.000000\n",
      "6  0.259475   0.137225  0.404111\n",
      "7  0.518548   0.022745  0.374358\n",
      "8  0.700622   0.028052  0.469029\n"
     ]
    },
    {
     "data": {
      "text/html": [
       "<div>\n",
       "<style scoped>\n",
       "    .dataframe tbody tr th:only-of-type {\n",
       "        vertical-align: middle;\n",
       "    }\n",
       "\n",
       "    .dataframe tbody tr th {\n",
       "        vertical-align: top;\n",
       "    }\n",
       "\n",
       "    .dataframe thead th {\n",
       "        text-align: right;\n",
       "    }\n",
       "</style>\n",
       "<table border=\"1\" class=\"dataframe\">\n",
       "  <thead>\n",
       "    <tr style=\"text-align: right;\">\n",
       "      <th></th>\n",
       "      <th>cls</th>\n",
       "      <th>Recency</th>\n",
       "      <th>Frequency</th>\n",
       "      <th>Monetary</th>\n",
       "      <th>CustomerCount</th>\n",
       "      <th>rank_poswt</th>\n",
       "      <th>rank_negwt</th>\n",
       "    </tr>\n",
       "  </thead>\n",
       "  <tbody>\n",
       "    <tr>\n",
       "      <th>0</th>\n",
       "      <td>0</td>\n",
       "      <td>26.361737</td>\n",
       "      <td>3.549911</td>\n",
       "      <td>102.608541</td>\n",
       "      <td>21969</td>\n",
       "      <td>6.222753</td>\n",
       "      <td>5.171621</td>\n",
       "    </tr>\n",
       "    <tr>\n",
       "      <th>4</th>\n",
       "      <td>4</td>\n",
       "      <td>1.916667</td>\n",
       "      <td>3.738279</td>\n",
       "      <td>126.255559</td>\n",
       "      <td>7764</td>\n",
       "      <td>6.000000</td>\n",
       "      <td>6.000000</td>\n",
       "    </tr>\n",
       "    <tr>\n",
       "      <th>1</th>\n",
       "      <td>1</td>\n",
       "      <td>146.940562</td>\n",
       "      <td>2.556091</td>\n",
       "      <td>73.425671</td>\n",
       "      <td>29880</td>\n",
       "      <td>5.705930</td>\n",
       "      <td>3.965806</td>\n",
       "    </tr>\n",
       "    <tr>\n",
       "      <th>3</th>\n",
       "      <td>3</td>\n",
       "      <td>280.942160</td>\n",
       "      <td>1.017784</td>\n",
       "      <td>25.553387</td>\n",
       "      <td>53475</td>\n",
       "      <td>3.299406</td>\n",
       "      <td>1.299406</td>\n",
       "    </tr>\n",
       "    <tr>\n",
       "      <th>2</th>\n",
       "      <td>2</td>\n",
       "      <td>138.140817</td>\n",
       "      <td>1.000000</td>\n",
       "      <td>17.686718</td>\n",
       "      <td>37673</td>\n",
       "      <td>2.731582</td>\n",
       "      <td>1.016322</td>\n",
       "    </tr>\n",
       "    <tr>\n",
       "      <th>8</th>\n",
       "      <td>8</td>\n",
       "      <td>63.098102</td>\n",
       "      <td>1.037635</td>\n",
       "      <td>17.728599</td>\n",
       "      <td>45463</td>\n",
       "      <td>2.632840</td>\n",
       "      <td>1.231597</td>\n",
       "    </tr>\n",
       "    <tr>\n",
       "      <th>6</th>\n",
       "      <td>6</td>\n",
       "      <td>6.995326</td>\n",
       "      <td>1.197938</td>\n",
       "      <td>13.943270</td>\n",
       "      <td>13479</td>\n",
       "      <td>2.150371</td>\n",
       "      <td>1.631421</td>\n",
       "    </tr>\n",
       "    <tr>\n",
       "      <th>7</th>\n",
       "      <td>7</td>\n",
       "      <td>25.461554</td>\n",
       "      <td>1.029947</td>\n",
       "      <td>12.490012</td>\n",
       "      <td>29652</td>\n",
       "      <td>2.061468</td>\n",
       "      <td>1.024371</td>\n",
       "    </tr>\n",
       "    <tr>\n",
       "      <th>5</th>\n",
       "      <td>5</td>\n",
       "      <td>270.787190</td>\n",
       "      <td>1.041134</td>\n",
       "      <td>3.130910</td>\n",
       "      <td>27447</td>\n",
       "      <td>1.053233</td>\n",
       "      <td>-0.931929</td>\n",
       "    </tr>\n",
       "  </tbody>\n",
       "</table>\n",
       "</div>"
      ],
      "text/plain": [
       "   cls     Recency  Frequency    Monetary  CustomerCount  rank_poswt  \\\n",
       "0    0   26.361737   3.549911  102.608541          21969    6.222753   \n",
       "4    4    1.916667   3.738279  126.255559           7764    6.000000   \n",
       "1    1  146.940562   2.556091   73.425671          29880    5.705930   \n",
       "3    3  280.942160   1.017784   25.553387          53475    3.299406   \n",
       "2    2  138.140817   1.000000   17.686718          37673    2.731582   \n",
       "8    8   63.098102   1.037635   17.728599          45463    2.632840   \n",
       "6    6    6.995326   1.197938   13.943270          13479    2.150371   \n",
       "7    7   25.461554   1.029947   12.490012          29652    2.061468   \n",
       "5    5  270.787190   1.041134    3.130910          27447    1.053233   \n",
       "\n",
       "   rank_negwt  \n",
       "0    5.171621  \n",
       "4    6.000000  \n",
       "1    3.965806  \n",
       "3    1.299406  \n",
       "2    1.016322  \n",
       "8    1.231597  \n",
       "6    1.631421  \n",
       "7    1.024371  \n",
       "5   -0.931929  "
      ]
     },
     "execution_count": 116,
     "metadata": {},
     "output_type": "execute_result"
    }
   ],
   "source": [
    "#Checking for K=9\n",
    "fn_rankclus(RFM_clus9)"
   ]
  },
  {
   "cell_type": "markdown",
   "metadata": {},
   "source": [
    "# End"
   ]
  },
  {
   "cell_type": "code",
   "execution_count": 59,
   "metadata": {},
   "outputs": [],
   "source": [
    "# deprecated------ plotting function to plot the \n",
    "def clus_plot(df):\n",
    "    \n",
    "    fig, axes = plt.subplots(1, 3,figsize=(20,8))\n",
    "    #fig.suptitle('1 row x 2 columns axes with no data')\n",
    "    sc1=axes[0].scatter(df['Recency'],df['Monetary'],c=np.array(df['cls']))\n",
    "    fig.colorbar(sc1, ax=axes[0])\n",
    "\n",
    "    sc2=axes[1].scatter(df['Frequency'],df['Monetary'],c=np.array(df['cls']))\n",
    "    fig.colorbar(sc2, ax=axes[1])\n",
    "\n",
    "    sns.distplot(np.array(df['cls']),ax=axes[2])\n",
    "\n",
    "    #sns.distplot(df,x='Recency',ax=axes[1,1],data=x=np.array(df['Recency']),color=np.array(df['cls1']))\n",
    "    #sns.distplot(ax=axes[1,1],\n",
    "\n",
    "    #axis labels\n",
    "    axes[0].set_title('Recency v/s Monetary Plot for the clusters')\n",
    "    axes[0].set_xlabel('Recency')\n",
    "    axes[0].set_ylabel('Monetary')\n",
    "\n",
    "    axes[1].set_title('Frequency v/s Monetary for the clusters')\n",
    "    axes[1].set_xlabel('Frequency')\n",
    "    axes[1].set_ylabel('Monetary')\n",
    "\n",
    "\n",
    "    #axis labels\n",
    "    axes[2].set_title('Cluster Density Plot')\n",
    "    axes[2].set_xlabel('Recency')\n"
   ]
  },
  {
   "cell_type": "code",
   "execution_count": 119,
   "metadata": {},
   "outputs": [],
   "source": [
    "def clus_plots(df):\n",
    "    \n",
    "    fig, axes = plt.subplots(2, 2,figsize=(10,10))\n",
    "    #fig.suptitle('1 row x 2 columns axes with no data')\n",
    "    axes[0][0].scatter(df['Recency'],df['cls'],c=np.array(df['cls']))\n",
    "    #fig.colorbar(sc1, ax=axes[0])\n",
    "\n",
    "    axes[0][1].scatter(df['Frequency'],df['cls'],c=np.array(df['cls']))\n",
    "    #fig.colorbar(sc2, ax=axes[1])\n",
    "    \n",
    "    axes[1][0].scatter(df['Monetary']/1000,df['cls'],c=np.array(df['cls']))\n",
    "\n",
    "    sns.distplot(np.array(df['cls']),ax=axes[1][1])\n",
    "\n",
    "    #sns.distplot(df,x='Recency',ax=axes[1,1],data=x=np.array(df['Recency']),color=np.array(df['cls1']))\n",
    "    #sns.distplot(ax=axes[1,1],\n",
    "\n",
    "    axes[0][0].set_title('Recency v/s Cluster Plot')\n",
    "    axes[0][0].set_xlabel('Recency')\n",
    "    axes[0][0].set_ylabel('Clusters')\n",
    "\n",
    "    axes[0][1].set_title('Frequency v/s Cluster Plot')\n",
    "    axes[0][1].set_xlabel('Frequency')\n",
    "    axes[0][1].set_ylabel('Clusters')\n",
    "    \n",
    "    axes[1][0].set_title('Monetary v/s Cluster Plot')\n",
    "    axes[1][0].set_xlabel('Monetary in Thousands')\n",
    "    axes[1][0].set_ylabel('Clusters')\n",
    "    \n",
    "    axes[1][1].set_title('Cluster Density Plot')\n",
    "    axes[1][1].set_xlabel('Cluster')\n",
    "  "
   ]
  },
  {
   "cell_type": "code",
   "execution_count": null,
   "metadata": {},
   "outputs": [],
   "source": []
  },
  {
   "cell_type": "code",
   "execution_count": null,
   "metadata": {},
   "outputs": [],
   "source": []
  }
 ],
 "metadata": {
  "kernelspec": {
   "display_name": "Python 3",
   "language": "python",
   "name": "python3"
  },
  "language_info": {
   "codemirror_mode": {
    "name": "ipython",
    "version": 3
   },
   "file_extension": ".py",
   "mimetype": "text/x-python",
   "name": "python",
   "nbconvert_exporter": "python",
   "pygments_lexer": "ipython3",
   "version": "3.7.0"
  }
 },
 "nbformat": 4,
 "nbformat_minor": 2
}
